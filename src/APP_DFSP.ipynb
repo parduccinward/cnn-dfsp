{
 "cells": [
  {
   "cell_type": "code",
   "execution_count": 1,
   "id": "6d333971",
   "metadata": {},
   "outputs": [
    {
     "name": "stdout",
     "output_type": "stream",
     "text": [
      "Overwriting app.py\n"
     ]
    }
   ],
   "source": [
    "%%writefile app.py\n",
    "import streamlit as st\n",
    "from img_classification import teachable_machine_classification\n",
    "import keras\n",
    "from PIL import Image, ImageOps\n",
    "import numpy as np\n",
    "st.title(\"Sistema de Diagnóstico asistido por ordenador\")\n",
    "st.header(\"Clasificación de cáncer de piel mediante CNN\")\n",
    "st.text(\"Por favor introduce una imagen de una lesión cutánea que pueda sospechar DFSP, carcinoma o melanoma:\")\n",
    "\n",
    "uploaded_file = st.file_uploader(\"Escoge una lesión cutánea ...\", type=\"jpg\")\n",
    "if uploaded_file is not None:\n",
    "  image = Image.open(uploaded_file)\n",
    "  st.image(image, caption='Imagen subida exitosamente.', use_column_width=True)\n",
    "  st.write(\"\")\n",
    "  st.write(\"Clasificando...\")\n",
    "  label = teachable_machine_classification(image, 'train/model.h5') # Name of the model from Teachablemachine\n",
    "  if label == 0:\n",
    "    st.write(\"The MRI scan has a brain tumor\")\n",
    "  else:\n",
    "    st.write(\"The MRI scan is healthy\")"
   ]
  },
  {
   "cell_type": "code",
   "execution_count": 2,
   "id": "a7223054",
   "metadata": {},
   "outputs": [
    {
     "name": "stdout",
     "output_type": "stream",
     "text": [
      "Overwriting img_classification.py\n"
     ]
    }
   ],
   "source": [
    "%%writefile img_classification.py\n",
    "import tensorflow.keras\n",
    "from PIL import Image, ImageOps\n",
    "import numpy as np\n",
    "\n",
    "\n",
    "def teachable_machine_classification(img, weights_file):\n",
    "    # Load the model\n",
    "    model = tensorflow.keras.models.load_model(weights_file)\n",
    "\n",
    "    # Create the array of the right shape to feed into the keras model\n",
    "    data = np.ndarray(shape=(1, 224, 224, 3), dtype=np.float32)\n",
    "    image = img\n",
    "    #image sizing\n",
    "    size = (224, 224)\n",
    "    image = ImageOps.fit(image, size, Image.ANTIALIAS)\n",
    "\n",
    "    #turn the image into a numpy array\n",
    "    image_array = np.asarray(image)\n",
    "    # Normalize the image\n",
    "    normalized_image_array = (image_array.astype(np.float32) / 127.0) - 1\n",
    "\n",
    "    # Load the image into the array\n",
    "    data[0] = normalized_image_array  # (Not sure if this is needed, but gives an error!!!)\n",
    "\n",
    "    # run the inference\n",
    "    prediction = model.predict(data)\n",
    "    return np.argmax(prediction) # return position of the highest probability"
   ]
  },
  {
   "cell_type": "code",
   "execution_count": 3,
   "id": "141fec3e",
   "metadata": {},
   "outputs": [
    {
     "name": "stdout",
     "output_type": "stream",
     "text": [
      "Link to web app:\n",
      "NgrokTunnel: \"http://dd7b2b459f45.ngrok.io\" -> \"http://localhost:80\"\n",
      "2021-06-03 05:23:50.443 An update to the [server] config option section was detected. To have these changes be reflected, please restart streamlit.\n",
      "Traceback (most recent call last):\n",
      "  File \"/home/ec2-user/anaconda3/envs/tensorflow_p36/bin/streamlit\", line 8, in <module>\n",
      "    sys.exit(main())\n",
      "  File \"/home/ec2-user/anaconda3/envs/tensorflow_p36/lib/python3.6/site-packages/click/core.py\", line 829, in __call__\n",
      "    return self.main(*args, **kwargs)\n",
      "  File \"/home/ec2-user/anaconda3/envs/tensorflow_p36/lib/python3.6/site-packages/click/core.py\", line 782, in main\n",
      "    rv = self.invoke(ctx)\n",
      "  File \"/home/ec2-user/anaconda3/envs/tensorflow_p36/lib/python3.6/site-packages/click/core.py\", line 1259, in invoke\n",
      "    return _process_result(sub_ctx.command.invoke(sub_ctx))\n",
      "  File \"/home/ec2-user/anaconda3/envs/tensorflow_p36/lib/python3.6/site-packages/click/core.py\", line 1066, in invoke\n",
      "    return ctx.invoke(self.callback, **ctx.params)\n",
      "  File \"/home/ec2-user/anaconda3/envs/tensorflow_p36/lib/python3.6/site-packages/click/core.py\", line 610, in invoke\n",
      "    return callback(*args, **kwargs)\n",
      "  File \"/home/ec2-user/anaconda3/envs/tensorflow_p36/lib/python3.6/site-packages/streamlit/cli.py\", line 191, in main_run\n",
      "    _main_run(target, args, flag_options=kwargs)\n",
      "  File \"/home/ec2-user/anaconda3/envs/tensorflow_p36/lib/python3.6/site-packages/streamlit/cli.py\", line 219, in _main_run\n",
      "    bootstrap.run(file, command_line, args, flag_options)\n",
      "  File \"/home/ec2-user/anaconda3/envs/tensorflow_p36/lib/python3.6/site-packages/streamlit/bootstrap.py\", line 357, in run\n",
      "    server.start(_on_server_start)\n",
      "  File \"/home/ec2-user/anaconda3/envs/tensorflow_p36/lib/python3.6/site-packages/streamlit/server/server.py\", line 288, in start\n",
      "    start_listening(app)\n",
      "  File \"/home/ec2-user/anaconda3/envs/tensorflow_p36/lib/python3.6/site-packages/streamlit/server/server.py\", line 151, in start_listening\n",
      "    start_listening_tcp_socket(http_server)\n",
      "  File \"/home/ec2-user/anaconda3/envs/tensorflow_p36/lib/python3.6/site-packages/streamlit/server/server.py\", line 170, in start_listening_tcp_socket\n",
      "    http_server.listen(port, address)\n",
      "  File \"/home/ec2-user/anaconda3/envs/tensorflow_p36/lib/python3.6/site-packages/tornado/tcpserver.py\", line 151, in listen\n",
      "    sockets = bind_sockets(port, address=address)\n",
      "  File \"/home/ec2-user/anaconda3/envs/tensorflow_p36/lib/python3.6/site-packages/tornado/netutil.py\", line 161, in bind_sockets\n",
      "    sock.bind(sockaddr)\n",
      "PermissionError: [Errno 13] Permission denied\n"
     ]
    },
    {
     "name": "stderr",
     "output_type": "stream",
     "text": [
      "t=2021-06-03T05:24:17+0000 lvl=warn msg=\"failed to open private leg\" id=7ff875a7e107 privaddr=localhost:80 err=\"dial tcp 127.0.0.1:80: connect: connection refused\"\n",
      "t=2021-06-03T05:24:17+0000 lvl=warn msg=\"failed to open private leg\" id=ed887e0d6aeb privaddr=localhost:80 err=\"dial tcp 127.0.0.1:80: connect: connection refused\"\n"
     ]
    }
   ],
   "source": [
    "from pyngrok import ngrok\n",
    "public_url = ngrok.connect(port='80')\n",
    "print('Link to web app:')\n",
    "print (public_url)\n",
    "!streamlit run --server.port 80 app.py >/dev/null"
   ]
  },
  {
   "cell_type": "code",
   "execution_count": null,
   "id": "65a88509",
   "metadata": {},
   "outputs": [],
   "source": []
  },
  {
   "cell_type": "code",
   "execution_count": null,
   "id": "bfdf9898",
   "metadata": {},
   "outputs": [],
   "source": []
  }
 ],
 "metadata": {
  "kernelspec": {
   "display_name": "conda_tensorflow_p36",
   "language": "python",
   "name": "conda_tensorflow_p36"
  },
  "language_info": {
   "codemirror_mode": {
    "name": "ipython",
    "version": 3
   },
   "file_extension": ".py",
   "mimetype": "text/x-python",
   "name": "python",
   "nbconvert_exporter": "python",
   "pygments_lexer": "ipython3",
   "version": "3.6.13"
  }
 },
 "nbformat": 4,
 "nbformat_minor": 5
}
